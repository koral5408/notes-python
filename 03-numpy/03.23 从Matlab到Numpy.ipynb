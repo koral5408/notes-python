{
 "cells": [
  {
   "cell_type": "markdown",
   "metadata": {
    "collapsed": true
   },
   "source": [
    "## 从Matlab 到Numpy\n",
    "\n",
    "### Numpy 和 Matlab 比较\n",
    "\n",
    "numpy 和 matlab 有很多相似的地方，但Numpy并非Matlab的克隆，它们之间存在很多差异，例如：\n",
    "\n",
    "|Matlab|Numpy|\n",
    "|---|---|\n",
    "|基本类型为双精浮点型，以二维矩阵为主|基本类型为ndarray，有特殊的matrix类型|\n",
    "|1-based索引|0-based索引|\n",
    "|脚本主要用于线性代数计算|可以使用其他的Python特性|\n",
    "|采用值传递的方式进行计算 <br>切片返回复制|采用引用传递的方式进行计算<br>切片返回引用|\n",
    "|文件名必须与函数名相同|函数可以在任何地方任何文件中定义|\n",
    "|收费|免费|\n",
    "|2D，3D图像支持|依赖第三方库如matplotlib等|\n",
    "|完全的编译环境|依赖于Python提供的编译环境|"
   ]
  },
  {
   "cell_type": "markdown",
   "metadata": {},
   "source": [
    "### array 还是 matrix？\n",
    "\n",
    "Numpy中不仅提供了array这个基本类型，还提供了支持矩阵操作的类matrix，但是一般推荐使用array：\n",
    "\n",
    "* 很多 numpy 函数返回的是array，不是matrix\n",
    "* 在array中，逐元素操作和逐矩阵操作有着明显的不同\n",
    "* 向量可以不被视为矩阵\n",
    "\n",
    "具体来说：\n",
    "\n",
    "* \\*，dot(),multiply()\n",
    "    - array: \\*-逐元素乘法，dot()-矩阵乘法\n",
    "    - matrix: *-矩阵乘法，multiply()-逐元素乘法\n",
    "* 向量处理\n",
    "    - array：形状为1xN，Nx1，N的向量意义是不同的，类似于A[:,1]的操作返回的是一维数组，形状为N，一维数组的转置仍是自己本身\n",
    "    - matrix： 形状为1xN，Nx1，A[：1]返回的是二维Nx1矩阵\n",
    "* 高维数组\n",
    "    - array： 支持大于2的纬度\n",
    "    - matrix： 纬度只能是2\n",
    "* 属性\n",
    "    - array： .T表示转置\n",
    "    - matrix： .H表示复共轭转置， .I表示逆， .A表示转化为array类型\n",
    "* 构造函数\n",
    "    - array： array函数接受一个（嵌套）序列作为参数——array([[1,2,3],[4,5,6]])\n",
    "    - matrix: matrix函数额外支持字符串参数——matrix(\"[1 2 3;4 5 6]\")\n",
    "    \n",
    "其优缺点个字如下：\n",
    "\n",
    "* array\n",
    "    - 【GOOD】 一维数组既可以看成列向量，也可以看成行向量。v在dot(A,v)被看成列向量，在dot(v,A)中被看成行向量，这样省去了转置的麻烦\n",
    "    - 【BAD！】 矩阵乘法需要使用dot()函数，如：dot(dot(A,B),C) VS A*B*C\n",
    "    - 【GOOD】 逐元素乘法很简单： A*B\n",
    "    - 【GOOD】 作为基本类型，是很多基于numpy的第三方库函数的返回类型\n",
    "    - 【GOOD】 所有的操作\\*,\\/,+,\\*\\* ...都是逐元素的\n",
    "    - 【GOOD】 可以处理任意纬度的数据\n",
    "    - 【GOOD】 张量运算\n",
    "    \n",
    "* matrix\n",
    "    - 【GOOD】 类似于matlab的操作\n",
    "    - 【BAD！】 最高纬度是2\n",
    "    - 【BAD！】 最低维数也是2\n",
    "    - 【BAD！】 很多函数返回的是array，及时传入的参数是matrix\n",
    "    - 【GOOD】 A*B 是矩阵乘法\n",
    "    - 【BAD！】 逐元素乘法需要调用mutiply函数\n",
    "    - 【BAD！】 \\/是逐元素操作\n",
    "    \n",
    "当然在实际使用中，二者的使用取决于具体情况。\n",
    "\n",
    "二者可以相互转化：\n",
    "\n",
    "* asarray: 返回数组\n",
    "* asmatrix(或者mat): 返回矩阵\n",
    "* asanyarray： 返回数组或者数组的子类，注意到矩阵是数组的一个子类，所以输入是矩阵的时候返回的也是矩阵\n"
   ]
  },
  {
   "cell_type": "markdown",
   "metadata": {},
   "source": [
    "### 类 Matlab 函数\n",
    "\n",
    "有很多类似的函数：\n",
    "\n",
    "* ones， zeros， empty， eye， rand， repmat\n",
    "\n",
    "通常这些函数的返回值是array，不过numpy提供了一个matlib的子模块，子模块中的这些函数返回值为matrix："
   ]
  },
  {
   "cell_type": "code",
   "execution_count": 1,
   "metadata": {
    "collapsed": true
   },
   "outputs": [],
   "source": [
    "import numpy\n",
    "import numpy.matlib"
   ]
  },
  {
   "cell_type": "code",
   "execution_count": 2,
   "metadata": {
    "collapsed": false
   },
   "outputs": [
    {
     "name": "stdout",
     "output_type": "stream",
     "text": [
      "(7,)\n",
      "<class 'numpy.ndarray'>\n"
     ]
    }
   ],
   "source": [
    "a = numpy.ones(7)\n",
    "\n",
    "print(a.shape)\n",
    "print(type(a))"
   ]
  },
  {
   "cell_type": "code",
   "execution_count": 3,
   "metadata": {
    "collapsed": false
   },
   "outputs": [
    {
     "name": "stdout",
     "output_type": "stream",
     "text": [
      "(1, 7)\n",
      "<class 'numpy.matrixlib.defmatrix.matrix'>\n"
     ]
    }
   ],
   "source": [
    "a = numpy.matlib.ones(7)\n",
    "\n",
    "print(a.shape)\n",
    "print(type(a))"
   ]
  },
  {
   "cell_type": "markdown",
   "metadata": {},
   "source": [
    "mat函数将一个数组转化为矩阵："
   ]
  },
  {
   "cell_type": "code",
   "execution_count": 4,
   "metadata": {
    "collapsed": false
   },
   "outputs": [
    {
     "name": "stdout",
     "output_type": "stream",
     "text": [
      "<class 'numpy.matrixlib.defmatrix.matrix'>\n"
     ]
    }
   ],
   "source": [
    "a = numpy.array([1,2,3])\n",
    "\n",
    "b = numpy.mat(a)\n",
    "\n",
    "print(type(b))"
   ]
  },
  {
   "cell_type": "markdown",
   "metadata": {},
   "source": [
    "有些函数被放到了子模块中了，例如调用rand函数需要使用numpy.random.rand()(或者从matlib模块中生成矩阵)："
   ]
  },
  {
   "cell_type": "code",
   "execution_count": 5,
   "metadata": {
    "collapsed": false
   },
   "outputs": [
    {
     "name": "stdout",
     "output_type": "stream",
     "text": [
      "[ 0.15658313  0.44813344  0.05975029  0.92998888  0.20453227  0.00142351\n",
      "  0.21584839  0.11484403  0.71719106  0.00403817]\n"
     ]
    }
   ],
   "source": [
    "a = numpy.random.rand(10)\n",
    "print(a)"
   ]
  },
  {
   "cell_type": "markdown",
   "metadata": {},
   "source": [
    "### 等效操作\n",
    "\n",
    "假定我们已经这样导入了Numpy："
   ]
  },
  {
   "cell_type": "code",
   "execution_count": 6,
   "metadata": {
    "collapsed": true
   },
   "outputs": [],
   "source": [
    "from numpy import *\n",
    "import scipy.linalg"
   ]
  },
  {
   "cell_type": "markdown",
   "metadata": {},
   "source": [
    "以下linalg表示的是numpy.linalg， 与scipy.linalg不同。\n",
    "\n",
    "注意：MATLAB与Numpy下标之间有这样基础不同：\n",
    "\n",
    "* 1-base VS 0-base\n",
    "* （） VS []\n",
    "* MATLAB： beg(:step):end 包含结束值end\n",
    "* Numpy： beg:end(:step),不包含结束值end\n",
    "\n",
    "|MATLAB|Numpy|注释|\n",
    "|:---|:---|:---|\n",
    "|help func|info(func), help(func),func?（IPython）|查看函数帮助|\n",
    "|which func| |查看函数在什么地方定义|\n",
    "|type func|source(func), func??(IPython)|查看函数源代码|\n",
    "|a && b|a and b|逻辑AND|\n",
    "|1*i,1*j,1i,1j|1j|复数|\n",
    "|eps|spacing(1)|1与最近浮点数的距离|\n",
    "|ndims(a)|ndim(a),a.ndim|a的维数|\n",
    "|numel(a)|size(a),a.size|a的元素个数|\n",
    "|size(a,n)|a.shape[n-1]|第n维的大小|\n",
    "|a(2,5)|a[1,4]|第2行第5列元素|\n",
    "|a(2,:)|a[1],a[1,:]|第2行|\n",
    "|a(1:5,:)|a[0:5]|第1至5行|\n",
    "|a(end-4:end,:)|a[-5]|后5行|\n",
    "|a(1:3,5:9)|a\\[0:3\\][:,4；9]|特定的列(1-3行，5-9列)|\n",
    "|a([2,4,5],[1,3])|a[ix_([1,3,4],[0,2])]|特定的列（2，4，5行的1，3列）|\n",
    "|a(3:2:21,:)|a[2:21:2,:]|特定的列（3，5，...,21行）|\n",
    "|a(1:2:end,:)|a[::2,:]|奇数行|\n",
    "|a([1:end 1],:)|a[r_[:len(a),0]]|将第一行添加到末尾|\n",
    "|a.'|a.T|转置|\n",
    "|a./b|a/b|逐元素除法|\n",
    "|(a>0.5)|(a>0.5)|各个元素是否大于0.5|\n",
    "|find(a>0.5)|nonzero(a>0.5)|大于0.5的位置|\n",
    "|a(a<0.5)=0|a[a<0.5]=0|小于0.5的设为0|\n",
    "|a(:)=3|a[:]=3|所有元素设为3|\n",
    "|y=x|y=x.copy()|将y设为x|\n",
    "|y=x(2,:)|y=x[1,:].copy()|注意值传递和引用传递的区别|\n",
    "|y=x(:)|y=x.flatten(1)|将矩阵变为一个向量，这里1表示沿着列进行转换|\n",
    "|max(max(a))|a.max()|最大值|\n",
    "|max(a)|a.max(0)|每一列的最大值|\n",
    "|max(a,[],2)|a.max(1)|每一行的最大值|\n",
    "|max(a,b)|maximum(a,b)|逐元素比较，取最大值|\n",
    "|a & b|logical_and(a,b)|逻辑AND|\n",
    "|bitand(a,b)|a & b|逐比特AND|\n",
    "|inv(a)|linalg.inv(a)|a的逆|\n",
    "|pinv(a)|linalg.pinv(a)|a的伪逆|\n",
    "|rank(a)|linalg.matrix_rank(a)|秩|\n",
    "|a\\b|linalg.solve(a,b)(如果a是方阵)，linalg.lstsq(a,b)|解ax = b|\n",
    "|b/a|linalg.solve(a,b)(如果a是方阵)，linalg.lstsq(a,b)|解xa = b|\n",
    "|[U,S,V]=svd(a)|U,S,Vh = linalg.svd(a),V=Vh.T|奇异值分解|\n",
    "|chol(a)|linalg.chilesky(a).T|cholesky 分解|\n",
    "|[V,D]=eig(a)|D,V = linalg.eig(a)|特征值分解|\n",
    "|[V,D]=eig(a,b)|V,D = scipy.linalg.eig(a,b)||\n",
    "|[V,D]=eigs(a,k)||前k大特征值对应的特征向量|\n",
    "|..|..|..|\n"
   ]
  },
  {
   "cell_type": "markdown",
   "metadata": {},
   "source": [
    "|MATLAB|numpy.array|numpy.matrix|注释|\n",
    "|---|---|---|---|\n",
    "|[1,2,3;4,5,6]|array([[1.,2.,3.],[4.,5.,6.]])|mat([[1.,2.,3.],[4.,5.,6.]]),<br>mat('1,2,3;4,5,6')|2x3矩阵|\n",
    "|[a b;c d]|vstack([hstack([a,b])],hstack([c,d]))|bmat('a b;c d')|分块矩阵构造|\n",
    "|a(end)|a[-1]|a[:,-1][0,0]|最后一个元素|\n",
    "|a'|a.conj().T|a.H|复共轭转置|\n",
    "|a*b|dot(a,b)|a*b|矩阵乘法|\n",
    "|a.*b|a*b|multiply(a,b)|逐元素乘法|\n",
    "|a.^3|a**3|power(a,3)|逐元素立方|\n",
    "|a(:,find(v>0.5))|a[:,nonzero(v>0.5)[0]]|a[:,nonzero(v.A>0.5)[0]]|找出行向量v>0.5对应的a中的列|\n",
    "|a(：，find（v>0.5）)|a[:,v.T>0.5]|a[:,v.T>0.5]|找出列向量v>0.5对应的a中的列|\n",
    "|a.*(a>0.5)|a*(a>0.5)|mat(a.A*(a>0.5).A|将所有小于0.5的元素设为0|\n",
    "|1：10|arange(1.,11.),r_[1.:11.],r_[1:10:10j]|mat(arange(1.,11.)),r_[1.:11.,'r']|这里1.是为了将其转换为浮点数组|\n",
    "|0：9|arrange(10.),r_[:10],r_[:9:10j]|mat(arange(10.)),r_[:10.,'r']||\n",
    "|[1:10]'|arange(1.,11.)[:,newaxis]|r_[1.:11.'c']|列向量|\n",
    "|zeros,ones,eye,diag,linsapce|zeros,ones,eye,diag,linspace|mat(...)||\n",
    "|rand(3,4)|random.rand(3,4)|mat(...)|0-1随机数|\n",
    "|[x,y]=meshgrid(0:8,0:5)|mgrid[0:9.,0:6.],<br>meshgrid(r_[0:9.],r_[0:6.])|mat(...)|网格|\n",
    "||ogrid[0:9.,0:6.],ix_(r_[0:9],r_[0:9.])|mat()|建议在Numpy中使用|\n",
    "|[x,y]=meshgrid([1,2,4],[2,4,5])|meshgrid([1,2,4],[2,4,5])|mat(...)||\n",
    "||ix_([1,2,4],[2,4,5])|mat(...)||\n",
    "|remat(a,m,n)|tile(a,(m,n))|mat(...)|产生m x n 个a|\n",
    "|[a b]|c_[a,b]|concatenate((a,b),1)|列对齐连接|\n",
    "|[a; b]|r_[a, b]|concatenate((a,b))|行对齐连接|\n",
    "|norm(v)|sqrt(dot(v,v)),linalg.norm(v)|sqrt(dot(v.A,v.A)),linalg.nor(v)|模|\n",
    "|[Q,R,P]=qr(a,0)|Q,R = scipy.linalg.qr(a)|mat(...)|QR分解|\n",
    "|[L,U,P]=lu(a)|L,U = scipy.linalg.lu(a)|mat(...)|LU分解|\n",
    "|fft(a)|fft(a)|mat(...)|FFT|\n",
    "|ifft(a)|ifft(a)|mat(...)|IFFT|\n",
    "|sort(a)|sort(a),a.sort()|mat(...)|排序|\n"
   ]
  }
 ],
 "metadata": {
  "kernelspec": {
   "display_name": "Python 3",
   "language": "python",
   "name": "python3"
  },
  "language_info": {
   "codemirror_mode": {
    "name": "ipython",
    "version": 3
   },
   "file_extension": ".py",
   "mimetype": "text/x-python",
   "name": "python",
   "nbconvert_exporter": "python",
   "pygments_lexer": "ipython3",
   "version": "3.6.0"
  }
 },
 "nbformat": 4,
 "nbformat_minor": 2
}
