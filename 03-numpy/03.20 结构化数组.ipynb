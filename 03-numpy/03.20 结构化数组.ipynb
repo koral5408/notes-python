{
 "cells": [
  {
   "cell_type": "markdown",
   "metadata": {},
   "source": [
    "## 结构化数组\n",
    "\n",
    "假设我们要保存这样的数据：\n",
    "\n",
    "||name|age|wgt|\n",
    "|---|---|---|---|\n",
    "|0|dan|1|23.1|\n",
    "|1|ann|0|25.1|\n",
    "|2|sam|2|8.3|\n",
    "\n",
    "希望定义一个一维数组，每个元素有三个属性name,age,wgt,此时我们需要使用结构化数组。"
   ]
  },
  {
   "cell_type": "code",
   "execution_count": 1,
   "metadata": {
    "collapsed": true
   },
   "outputs": [],
   "source": [
    "import numpy as np"
   ]
  },
  {
   "cell_type": "markdown",
   "metadata": {},
   "source": [
    "定义数组a：\n",
    "\n",
    "|0|1|2|3|\n",
    "|---|---|---|---|\n",
    "|1.0|2.0|3.0|4.0|"
   ]
  },
  {
   "cell_type": "code",
   "execution_count": 2,
   "metadata": {
    "collapsed": true
   },
   "outputs": [],
   "source": [
    "a  = np.array([1.0, 2.0, 3.0, 4.0], np.float32)"
   ]
  },
  {
   "cell_type": "markdown",
   "metadata": {},
   "source": [
    "使用view方法，将a对应的内存按照复数来解释："
   ]
  },
  {
   "cell_type": "code",
   "execution_count": 4,
   "metadata": {
    "collapsed": false
   },
   "outputs": [
    {
     "data": {
      "text/plain": [
       "array([ 1.+2.j,  3.+4.j], dtype=complex64)"
      ]
     },
     "execution_count": 4,
     "metadata": {},
     "output_type": "execute_result"
    }
   ],
   "source": [
    "a.view(np.complex64)"
   ]
  },
  {
   "cell_type": "markdown",
   "metadata": {},
   "source": [
    "\n",
    "|0|1|2|3|\n",
    "|---|---|---|---|\n",
    "|1.0|2.0|3.0|4.0|\n",
    "|real|imag|real|imag|\n",
    "\n",
    "事实上，我们可以把复数看成一个结构体，第一部分是实部，第二部分是虚部，这样这个数组便可以看成是一个结构化的数组。\n",
    "\n",
    "换句话说，我们只需要换种方式解释这段内存，便可以得到结构化的数组的效果！\n",
    "\n",
    "|0|1|2|3|\n",
    "|---|---|---|---|\n",
    "|1.0|2.0|3.0|4.0|\n",
    "|mass|vol|mass|vol|\n",
    "\n",
    "例如，我们可以将第一个浮点数解释为质量，第二个浮点数解释为速度，则这段内存还可以看成是包含两个域（质量和速度）的结构体。"
   ]
  },
  {
   "cell_type": "code",
   "execution_count": 5,
   "metadata": {
    "collapsed": true
   },
   "outputs": [],
   "source": [
    "my_dtype = np.dtype([('mass','float32'),('vol','float32')])"
   ]
  },
  {
   "cell_type": "code",
   "execution_count": 6,
   "metadata": {
    "collapsed": false
   },
   "outputs": [
    {
     "data": {
      "text/plain": [
       "array([(1.0, 2.0), (3.0, 4.0)], \n",
       "      dtype=[('mass', '<f4'), ('vol', '<f4')])"
      ]
     },
     "execution_count": 6,
     "metadata": {},
     "output_type": "execute_result"
    }
   ],
   "source": [
    "a.view(my_dtype)"
   ]
  },
  {
   "cell_type": "markdown",
   "metadata": {},
   "source": [
    "这里，我们使用dtype创造了自定义的结构类型，然后用自定义的结构来解释数组a所占的内存。\n",
    "\n",
    "这里f4表示四个字节浮点数，<表示小字节序。\n",
    "\n",
    "利用这个自定义的结构类型，我们可以这样初始化结构数组："
   ]
  },
  {
   "cell_type": "code",
   "execution_count": 7,
   "metadata": {
    "collapsed": false
   },
   "outputs": [
    {
     "name": "stdout",
     "output_type": "stream",
     "text": [
      "[(1.0, 1.0) (2.0, 1.0) (2.0, 1.0) (1.0, 3.0)]\n"
     ]
    }
   ],
   "source": [
    "my_data = np.array([(1,1), (2,1), (2,1), (1,3)],my_dtype)\n",
    "\n",
    "print(my_data)"
   ]
  },
  {
   "cell_type": "markdown",
   "metadata": {},
   "source": [
    "第一个元素："
   ]
  },
  {
   "cell_type": "code",
   "execution_count": 8,
   "metadata": {
    "collapsed": false
   },
   "outputs": [
    {
     "data": {
      "text/plain": [
       "(1.0, 1.0)"
      ]
     },
     "execution_count": 8,
     "metadata": {},
     "output_type": "execute_result"
    }
   ],
   "source": [
    "my_data[0]"
   ]
  },
  {
   "cell_type": "markdown",
   "metadata": {},
   "source": [
    "得到第一个元素的速度信息，可以使用域的名称来索引："
   ]
  },
  {
   "cell_type": "code",
   "execution_count": 9,
   "metadata": {
    "collapsed": false
   },
   "outputs": [
    {
     "data": {
      "text/plain": [
       "1.0"
      ]
     },
     "execution_count": 9,
     "metadata": {},
     "output_type": "execute_result"
    }
   ],
   "source": [
    "my_data[0]['vol']"
   ]
  },
  {
   "cell_type": "markdown",
   "metadata": {},
   "source": [
    "得到所有的质量信息："
   ]
  },
  {
   "cell_type": "code",
   "execution_count": 11,
   "metadata": {
    "collapsed": false
   },
   "outputs": [
    {
     "data": {
      "text/plain": [
       "array([ 1.,  2.,  2.,  1.], dtype=float32)"
      ]
     },
     "execution_count": 11,
     "metadata": {},
     "output_type": "execute_result"
    }
   ],
   "source": [
    "my_data['mass']"
   ]
  },
  {
   "cell_type": "markdown",
   "metadata": {},
   "source": [
    "自定义排序规则，先按速度，再按质量："
   ]
  },
  {
   "cell_type": "code",
   "execution_count": 13,
   "metadata": {
    "collapsed": false
   },
   "outputs": [
    {
     "name": "stdout",
     "output_type": "stream",
     "text": [
      "[(1.0, 1.0) (2.0, 1.0) (2.0, 1.0) (1.0, 3.0)]\n"
     ]
    }
   ],
   "source": [
    "my_data.sort(order=('vol','mass'))\n",
    "\n",
    "print(my_data)"
   ]
  },
  {
   "cell_type": "markdown",
   "metadata": {},
   "source": [
    "回到最初的例子，定义一个人的结构类型："
   ]
  },
  {
   "cell_type": "code",
   "execution_count": 14,
   "metadata": {
    "collapsed": true
   },
   "outputs": [],
   "source": [
    "person_dtype = np.dtype([('name','S10'),('age','int'),('weight','float')])"
   ]
  },
  {
   "cell_type": "markdown",
   "metadata": {},
   "source": [
    "查看类型所占字节数："
   ]
  },
  {
   "cell_type": "code",
   "execution_count": 15,
   "metadata": {
    "collapsed": false
   },
   "outputs": [
    {
     "data": {
      "text/plain": [
       "26"
      ]
     },
     "execution_count": 15,
     "metadata": {},
     "output_type": "execute_result"
    }
   ],
   "source": [
    "person_dtype.itemsize"
   ]
  },
  {
   "cell_type": "markdown",
   "metadata": {},
   "source": [
    "产生一个3 x 4 共12人的空结构体数组："
   ]
  },
  {
   "cell_type": "code",
   "execution_count": 16,
   "metadata": {
    "collapsed": true
   },
   "outputs": [],
   "source": [
    "people = np.empty((3,4), person_dtype)"
   ]
  },
  {
   "cell_type": "markdown",
   "metadata": {},
   "source": [
    "分别赋值："
   ]
  },
  {
   "cell_type": "code",
   "execution_count": 17,
   "metadata": {
    "collapsed": true
   },
   "outputs": [],
   "source": [
    "people['name'] = [['Brad', 'Jane', 'John', 'Fred'],\n",
    "                  ['Henry', 'George', 'Brain', 'Amy'],\n",
    "                  ['Ron', 'Susan', 'Jennife', 'Jill']]"
   ]
  },
  {
   "cell_type": "code",
   "execution_count": 18,
   "metadata": {
    "collapsed": true
   },
   "outputs": [],
   "source": [
    "people['age'] = [[33, 25, 47, 54],\n",
    "                 [29, 61, 32, 27],\n",
    "                 [19, 33, 18, 54]]"
   ]
  },
  {
   "cell_type": "code",
   "execution_count": 19,
   "metadata": {
    "collapsed": true
   },
   "outputs": [],
   "source": [
    "people['weight'] = [[135., 105., 255., 140.],\n",
    "                    [154., 202., 137., 187.],\n",
    "                    [188., 135., 88., 145.]]"
   ]
  },
  {
   "cell_type": "code",
   "execution_count": 20,
   "metadata": {
    "collapsed": false
   },
   "outputs": [
    {
     "name": "stdout",
     "output_type": "stream",
     "text": [
      "[[(b'Brad', 33, 135.0) (b'Jane', 25, 105.0) (b'John', 47, 255.0)\n",
      "  (b'Fred', 54, 140.0)]\n",
      " [(b'Henry', 29, 154.0) (b'George', 61, 202.0) (b'Brain', 32, 137.0)\n",
      "  (b'Amy', 27, 187.0)]\n",
      " [(b'Ron', 19, 188.0) (b'Susan', 33, 135.0) (b'Jennife', 18, 88.0)\n",
      "  (b'Jill', 54, 145.0)]]\n"
     ]
    }
   ],
   "source": [
    "print(people)"
   ]
  },
  {
   "cell_type": "code",
   "execution_count": 21,
   "metadata": {
    "collapsed": false
   },
   "outputs": [
    {
     "data": {
      "text/plain": [
       "(b'Jill', 54, 145.0)"
      ]
     },
     "execution_count": 21,
     "metadata": {},
     "output_type": "execute_result"
    }
   ],
   "source": [
    "people[-1,-1]"
   ]
  },
  {
   "cell_type": "markdown",
   "metadata": {},
   "source": [
    "### 从文本中读取结构化数组\n",
    "\n",
    "我们有这样一个文本："
   ]
  },
  {
   "cell_type": "code",
   "execution_count": 22,
   "metadata": {
    "collapsed": false
   },
   "outputs": [
    {
     "name": "stdout",
     "output_type": "stream",
     "text": [
      "Writing people.txt\n"
     ]
    }
   ],
   "source": [
    "%%writefile people.txt\n",
    "name age weight\n",
    "amy 11 38.2\n",
    "jhon 10 40.3\n",
    "bill 12 21.2"
   ]
  },
  {
   "cell_type": "markdown",
   "metadata": {},
   "source": [
    "利用loadtxt指定数据类型，从这个文件中读取结构化数组："
   ]
  },
  {
   "cell_type": "code",
   "execution_count": 23,
   "metadata": {
    "collapsed": false
   },
   "outputs": [
    {
     "data": {
      "text/plain": [
       "array([(b'amy', 11, 38.2), (b'jhon', 10, 40.3), (b'bill', 12, 21.2)], \n",
       "      dtype=[('name', 'S10'), ('age', '<i8'), ('weight', '<f8')])"
      ]
     },
     "execution_count": 23,
     "metadata": {},
     "output_type": "execute_result"
    }
   ],
   "source": [
    "person_dtype = np.dtype([('name','S10'),('age','int'),('weight','float')])\n",
    "\n",
    "people = np.loadtxt('people.txt',\n",
    "                    skiprows=1,\n",
    "                    dtype=person_dtype)\n",
    "people"
   ]
  },
  {
   "cell_type": "markdown",
   "metadata": {},
   "source": [
    "查看name域："
   ]
  },
  {
   "cell_type": "code",
   "execution_count": 24,
   "metadata": {
    "collapsed": false
   },
   "outputs": [
    {
     "data": {
      "text/plain": [
       "array([b'amy', b'jhon', b'bill'], \n",
       "      dtype='|S10')"
      ]
     },
     "execution_count": 24,
     "metadata": {},
     "output_type": "execute_result"
    }
   ],
   "source": [
    "people['name']"
   ]
  },
  {
   "cell_type": "markdown",
   "metadata": {},
   "source": [
    "删除文件："
   ]
  },
  {
   "cell_type": "code",
   "execution_count": 25,
   "metadata": {
    "collapsed": true
   },
   "outputs": [],
   "source": [
    "import os \n",
    "os.remove('people.txt')"
   ]
  },
  {
   "cell_type": "markdown",
   "metadata": {},
   "source": [
    "对于下面的文件："
   ]
  },
  {
   "cell_type": "code",
   "execution_count": 26,
   "metadata": {
    "collapsed": false
   },
   "outputs": [
    {
     "name": "stdout",
     "output_type": "stream",
     "text": [
      "Writing wood.csv\n"
     ]
    }
   ],
   "source": [
    "%%writefile wood.csv\n",
    "item, material,number\n",
    "100, oak, 38\n",
    "110, maple, 14\n",
    "120, oak, 7\n",
    "145, birch, 3"
   ]
  },
  {
   "cell_type": "markdown",
   "metadata": {},
   "source": [
    "定义转换函数处理材料属性，使之对应一个整数："
   ]
  },
  {
   "cell_type": "code",
   "execution_count": 51,
   "metadata": {
    "collapsed": false
   },
   "outputs": [],
   "source": [
    "tree_to_int = dict(oak = 1,\n",
    "                   maple=2,\n",
    "                   birch=3)\n",
    "        \n",
    "def convert(s):\n",
    "    return tree_to_int.get(s,0)\n"
   ]
  },
  {
   "cell_type": "markdown",
   "metadata": {},
   "source": [
    "使用genfromtxt载入数据，可以自动从第一行读入属性名称："
   ]
  },
  {
   "cell_type": "code",
   "execution_count": 53,
   "metadata": {
    "collapsed": false
   },
   "outputs": [
    {
     "data": {
      "text/plain": [
       "array([(100, 0, 38), (110, 0, 14), (120, 0, 7), (145, 0, 3)], \n",
       "      dtype=[('item', '<i8'), ('material', '<i8'), ('number', '<i8')])"
      ]
     },
     "execution_count": 53,
     "metadata": {},
     "output_type": "execute_result"
    }
   ],
   "source": [
    "data = np.genfromtxt('wood.csv',\n",
    "                     delimiter=',', #逗号分隔\n",
    "                     dtype = np.int, #数据类型\n",
    "                     names = True,  #从第一行读入属性名\n",
    "                     converters={1:convert} #转换函数               \n",
    "                    )\n",
    "data"
   ]
  },
  {
   "cell_type": "markdown",
   "metadata": {},
   "source": [
    " **出现异常:**虽然没有报错，但是输出的结果不对，转换函数转换出来的都是默认值。"
   ]
  },
  {
   "cell_type": "markdown",
   "metadata": {},
   "source": [
    "* 测试转换函数："
   ]
  },
  {
   "cell_type": "code",
   "execution_count": 55,
   "metadata": {
    "collapsed": false
   },
   "outputs": [
    {
     "data": {
      "text/plain": [
       "1"
      ]
     },
     "execution_count": 55,
     "metadata": {},
     "output_type": "execute_result"
    }
   ],
   "source": [
    "convert('oak')"
   ]
  },
  {
   "cell_type": "markdown",
   "metadata": {},
   "source": [
    "* 读取文件查看文件内容："
   ]
  },
  {
   "cell_type": "code",
   "execution_count": 48,
   "metadata": {
    "collapsed": false
   },
   "outputs": [
    {
     "name": "stdout",
     "output_type": "stream",
     "text": [
      "item, material,number\n",
      "\n",
      "100, oak, 38\n",
      "\n",
      "110, maple, 14\n",
      "\n",
      "120, oak, 7\n",
      "\n",
      "145, birch, 3\n"
     ]
    }
   ],
   "source": [
    "with open('wood.csv') as f:\n",
    "    for line in f:\n",
    "        print(line)"
   ]
  },
  {
   "cell_type": "markdown",
   "metadata": {},
   "source": [
    "未发现问题，修改函数进行实验。将数据类型修改为None，转换函数修改到为{2:convert},输出结果如下："
   ]
  },
  {
   "cell_type": "code",
   "execution_count": 57,
   "metadata": {
    "collapsed": false
   },
   "outputs": [
    {
     "data": {
      "text/plain": [
       "array([(100, b' oak', 0), (110, b' maple', 0), (120, b' oak', 0),\n",
       "       (145, b' birch', 0)], \n",
       "      dtype=[('item', '<i8'), ('material', 'S6'), ('number', '<i8')])"
      ]
     },
     "execution_count": 57,
     "metadata": {},
     "output_type": "execute_result"
    }
   ],
   "source": [
    "data = np.genfromtxt('wood.csv',\n",
    "                     delimiter=',', #逗号分隔\n",
    "                     dtype = None, #数据类型\n",
    "                     names = True,  #从第一行读入属性名\n",
    "                     converters={2:convert} #转换函数               \n",
    "                    )\n",
    "data"
   ]
  },
  {
   "cell_type": "markdown",
   "metadata": {},
   "source": [
    "从上面的输出结果来看，每个名字中前面有一个空格，如b' maple'可能原因是因为这个空格，重新写入下文件试试："
   ]
  },
  {
   "cell_type": "code",
   "execution_count": 58,
   "metadata": {
    "collapsed": false
   },
   "outputs": [
    {
     "name": "stdout",
     "output_type": "stream",
     "text": [
      "Overwriting wood.csv\n"
     ]
    }
   ],
   "source": [
    "%%writefile wood.csv\n",
    "item, material,number\n",
    "100,oak, 38\n",
    "110,maple, 14\n",
    "120,oak, 7\n",
    "145,birch, 3"
   ]
  },
  {
   "cell_type": "code",
   "execution_count": 66,
   "metadata": {
    "collapsed": false
   },
   "outputs": [
    {
     "data": {
      "text/plain": [
       "array([(100, b'oak', 38), (110, b'maple', 14), (120, b'oak', 7),\n",
       "       (145, b'birch', 3)], \n",
       "      dtype=[('item', '<i8'), ('material', 'S5'), ('number', '<i8')])"
      ]
     },
     "execution_count": 66,
     "metadata": {},
     "output_type": "execute_result"
    }
   ],
   "source": [
    "data = np.genfromtxt('wood.csv',\n",
    "                     delimiter=',', #逗号分隔\n",
    "                     dtype = None, #数据类型\n",
    "                     names = True,  #从第一行读入属性名\n",
    "                     #converters={1:convert} #转换函数               \n",
    "                    )\n",
    "data"
   ]
  },
  {
   "cell_type": "code",
   "execution_count": 69,
   "metadata": {
    "collapsed": false
   },
   "outputs": [
    {
     "name": "stdout",
     "output_type": "stream",
     "text": [
      "b'maple'\n"
     ]
    },
    {
     "data": {
      "text/plain": [
       "0"
      ]
     },
     "execution_count": 69,
     "metadata": {},
     "output_type": "execute_result"
    }
   ],
   "source": [
    "print(data[1]['material'])\n",
    "convert(data[1]['material'])"
   ]
  },
  {
   "cell_type": "markdown",
   "metadata": {},
   "source": [
    "还是不行，读取原始数据进行了验证，结果也是默认值，所以问题已经非常明显了，应该是编码方式的不同导致了该问题。\n",
    "\n",
    "下面就尝试重新定义函数，在函数内部进行编码转换："
   ]
  },
  {
   "cell_type": "code",
   "execution_count": 70,
   "metadata": {
    "collapsed": true
   },
   "outputs": [],
   "source": [
    "tree_to_int = dict(oak = 1,\n",
    "                   maple=2,\n",
    "                   birch=3)\n",
    "        \n",
    "def convert(s):\n",
    "    su = s.decode()  #默认转换为utf-8，可以不填，百度知道的\n",
    "    return tree_to_int.get(su,0)"
   ]
  },
  {
   "cell_type": "code",
   "execution_count": 73,
   "metadata": {
    "collapsed": false
   },
   "outputs": [
    {
     "data": {
      "text/plain": [
       "array([(100, 1, 38), (110, 2, 14), (120, 1, 7), (145, 3, 3)], \n",
       "      dtype=[('item', '<i8'), ('material', '<i8'), ('number', '<i8')])"
      ]
     },
     "execution_count": 73,
     "metadata": {},
     "output_type": "execute_result"
    }
   ],
   "source": [
    "data = np.genfromtxt('wood.csv',\n",
    "                     delimiter=',', #逗号分隔\n",
    "                     dtype = np.int, #数据类型\n",
    "                     names = True,  #从第一行读入属性名\n",
    "                     converters={1:convert} #转换函数               \n",
    "                    )\n",
    "data"
   ]
  },
  {
   "cell_type": "markdown",
   "metadata": {},
   "source": [
    "通过测试，问题解决。\n",
    "\n",
    "**总结：**\n",
    "参考的教程是python2的教程，两者在某些方面还是有区别的，本次遇到的问题是因为str格式和bin格式在python3中做了区分。\n",
    "\n",
    "关于格式转换，参考了[转换格式](http://www.cnblogs.com/txw1958/archive/2012/08/31/python3-bytes-string.html)的指导。\n",
    "\n",
    "解决之后，了解了[python3中str和bin的区别](http://www.cnblogs.com/feixuelove1009/p/5521417.html)\n",
    "\n",
    "也许也可以在genfromtxt中指定数据类型，自动将数据类型转换为str类型。暂时先不研究了。"
   ]
  },
  {
   "cell_type": "markdown",
   "metadata": {},
   "source": [
    "str和bytes区别：\n",
    "\n",
    "在python中是两种数据类型，str的编码为Unicode（万国码），而bytes可以定义为指定为utf-8或者gbk。使用writefile时默认保存的是utf-8编码数据类型。\n",
    "\n",
    "* 1.在将字符串存入磁盘和从磁盘读取字符串的过程中，Python自动地帮你完成了编码和解码的工作，你不需要关心它的过程。\n",
    "\n",
    "* 2.使用bytes类型，实质上是告诉Python，不需要它帮你自动地完成编码和解码的工作，而是用户自己手动进行，并指定编码格式。\n",
    "\n",
    "* 3.Python已经严格区分了bytes和str两种数据类型，你不能在需要bytes类型参数的时候使用str参数，反之亦然。这点在读写磁盘文件时容易碰到。"
   ]
  },
  {
   "cell_type": "markdown",
   "metadata": {},
   "source": [
    "查看域："
   ]
  },
  {
   "cell_type": "code",
   "execution_count": 74,
   "metadata": {
    "collapsed": false
   },
   "outputs": [
    {
     "data": {
      "text/plain": [
       "array([1, 2, 1, 3])"
      ]
     },
     "execution_count": 74,
     "metadata": {},
     "output_type": "execute_result"
    }
   ],
   "source": [
    "data['material']"
   ]
  },
  {
   "cell_type": "markdown",
   "metadata": {},
   "source": [
    "删除文件："
   ]
  },
  {
   "cell_type": "code",
   "execution_count": 75,
   "metadata": {
    "collapsed": true
   },
   "outputs": [],
   "source": [
    "import os\n",
    "os.remove('wood.csv')"
   ]
  },
  {
   "cell_type": "markdown",
   "metadata": {},
   "source": [
    "### 嵌套类型\n",
    "\n",
    "有时候，结构数组中的域可能包括嵌套结构，例如，我们希望在二维平面上记录一个质点的位置和质量：\n",
    "\n",
    "<table >\n",
    "    <tr>\n",
    "        <td>\n",
    "            <table style=\"margin:0;border:0\">\n",
    "                <tr>\n",
    "                    position\n",
    "                </tr>\n",
    "                <tr>\n",
    "                    <td>x</td>\n",
    "                    <td>y</td>\n",
    "                </tr>\n",
    "            </table>\n",
    "        </td>\n",
    "        <td>mass</td>\n",
    "    </tr>\n",
    "</table>\n",
    "\n",
    "(这个表格，做的挫了点，先讲究着看吧，捂脸)\n",
    "\n",
    "\n",
    "那么它的类型可以这样定义："
   ]
  },
  {
   "cell_type": "code",
   "execution_count": 76,
   "metadata": {
    "collapsed": true
   },
   "outputs": [],
   "source": [
    "particle_dtype = ([('position',[('x','float'),\n",
    "                                ('y','float')]),\n",
    "                   ('mass','float')\n",
    "                  ])"
   ]
  },
  {
   "cell_type": "markdown",
   "metadata": {},
   "source": [
    "假设数据文件如下："
   ]
  },
  {
   "cell_type": "code",
   "execution_count": 77,
   "metadata": {
    "collapsed": false
   },
   "outputs": [
    {
     "name": "stdout",
     "output_type": "stream",
     "text": [
      "Writing data.txt\n"
     ]
    }
   ],
   "source": [
    "%%writefile data.txt\n",
    "2.0 3.0 42.0\n",
    "2.1 4.3 32.5\n",
    "1.2 4.6 32.3\n",
    "4.5 -6.4 23.3"
   ]
  },
  {
   "cell_type": "markdown",
   "metadata": {},
   "source": [
    "读取数据："
   ]
  },
  {
   "cell_type": "code",
   "execution_count": 79,
   "metadata": {
    "collapsed": false
   },
   "outputs": [],
   "source": [
    "data = np.loadtxt('data.txt', dtype=particle_dtype)"
   ]
  },
  {
   "cell_type": "code",
   "execution_count": 80,
   "metadata": {
    "collapsed": false
   },
   "outputs": [
    {
     "data": {
      "text/plain": [
       "array([((2.0, 3.0), 42.0), ((2.1, 4.3), 32.5), ((1.2, 4.6), 32.3),\n",
       "       ((4.5, -6.4), 23.3)], \n",
       "      dtype=[('position', [('x', '<f8'), ('y', '<f8')]), ('mass', '<f8')])"
      ]
     },
     "execution_count": 80,
     "metadata": {},
     "output_type": "execute_result"
    }
   ],
   "source": [
    "data"
   ]
  },
  {
   "cell_type": "markdown",
   "metadata": {},
   "source": [
    "查看x轴："
   ]
  },
  {
   "cell_type": "code",
   "execution_count": 81,
   "metadata": {
    "collapsed": false
   },
   "outputs": [
    {
     "data": {
      "text/plain": [
       "array([ 2. ,  2.1,  1.2,  4.5])"
      ]
     },
     "execution_count": 81,
     "metadata": {},
     "output_type": "execute_result"
    }
   ],
   "source": [
    "data['position']['x']"
   ]
  },
  {
   "cell_type": "markdown",
   "metadata": {},
   "source": [
    "删除生成文件："
   ]
  },
  {
   "cell_type": "code",
   "execution_count": 82,
   "metadata": {
    "collapsed": true
   },
   "outputs": [],
   "source": [
    "import os\n",
    "os.remove('data.txt')"
   ]
  }
 ],
 "metadata": {
  "kernelspec": {
   "display_name": "Python 3",
   "language": "python",
   "name": "python3"
  },
  "language_info": {
   "codemirror_mode": {
    "name": "ipython",
    "version": 3
   },
   "file_extension": ".py",
   "mimetype": "text/x-python",
   "name": "python",
   "nbconvert_exporter": "python",
   "pygments_lexer": "ipython3",
   "version": "3.6.0"
  }
 },
 "nbformat": 4,
 "nbformat_minor": 2
}
