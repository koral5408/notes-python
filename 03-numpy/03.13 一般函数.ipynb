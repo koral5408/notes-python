{
 "cells": [
  {
   "cell_type": "markdown",
   "metadata": {
    "collapsed": true
   },
   "source": [
    "## 一般函数"
   ]
  },
  {
   "cell_type": "code",
   "execution_count": 2,
   "metadata": {
    "collapsed": true
   },
   "outputs": [],
   "source": [
    "import numpy as np"
   ]
  },
  {
   "cell_type": "markdown",
   "metadata": {},
   "source": [
    "### 三角函数\n",
    "\n",
    "*一般三角函数*\n",
    "\n",
    "* sin(x)\n",
    "* cos(x)\n",
    "* tan(x)\n",
    "\n",
    "*双曲三角函数*\n",
    "\n",
    "* sinh(x)\n",
    "* cosh(x)\n",
    "* tanh(x)\n",
    "\n",
    "！[常用公式](https://imgsa.baidu.com/baike/s%3D126/sign=da97f79c5bee3d6d26c683c975176d41/b7003af33a87e950be80175712385343fbf2b472.jpg)\n",
    "！[常用公式](https://imgsa.baidu.com/baike/s%3D127/sign=7fdab152272dd42a5b0905a9343a5b2f/a2cc7cd98d1001e991f1f034ba0e7bec54e79738.jpg)\n",
    "！[常用公式](https://imgsa.baidu.com/baike/s%3D114/sign=ea9d031871f082022992953e7ffafb8a/060828381f30e924ff4f7b0a4e086e061d95f726.jpg)\n",
    "！[常用公式](https://imgsa.baidu.com/baike/s%3D131/sign=4fff0e03b751f819f5250749ebb54a76/42166d224f4a20a430ceb4ef97529822730ed0c2.jpg)\n",
    "！[常用公式](https://imgsa.baidu.com/baike/s%3D127/sign=539908bf48ed2e73f8e9822eb000a16d/b3fb43166d224f4a454794280bf790529822d12b.jpg)\n",
    "！[常用公式](https://imgsa.baidu.com/baike/s%3D131/sign=906db46305087bf479ec53eac3d2575e/d62a6059252dd42aa5cc8a83043b5bb5c8eab8d5.jpg)\n",
    "\n",
    "*三角函数反函数*\n",
    "\n",
    "* arccos(x)\n",
    "* arctan(x)\n",
    "* arcsin(x)\n",
    "\n",
    "* arccosh(x)\n",
    "* arctanh(x)\n",
    "* arcsinh(x)\n",
    "* arctan2(x)\n",
    "\n",
    "arctan2(x,y) 返回 arctan(x/y)\n",
    "\n",
    "### 向量操作\n",
    "\n",
    "*各个函数的意义还有待挖掘，现混个脸熟吧*\n",
    "\n",
    "* dot(x,y) \n",
    "* inner(x,y)\n",
    "* cross(x,y)\n",
    "* vdot(x,y)\n",
    "* outer(x,y)\n",
    "* kron(x,y)\n",
    "* tensordot(x,y[,axis])\n",
    "\n",
    "### 其他操作\n",
    "\n",
    "* exp(x) 以e为底的指数函数\n",
    "* log(x) 以e为底的对数函数？\n",
    "* log10(x) 以10为底的对数计算\n",
    "* sqrt(x) 开方函数\n",
    "* absolute(x) 绝对值函数，输入可以是复数\n",
    "* conjugate(x) 共轭复数\n",
    "* negative(x) 取反\n",
    "* ceil(x) 向上取整\n",
    "* floor(x) 向下取整\n",
    "* fabs(x) 绝对值，不能用于复数\n",
    "* hypot(x,y) 给定一个直接三角形的两边，返回其斜边，勾股定理？\n",
    "* fmod(x，y) 取模运算，即取余数\n",
    "* maximum(x,y) 取最大值\n",
    "* minimum(x,.y) 取最小值\n",
    "\n",
    "hypot 返回对应点（x,y）到原点的距离\n",
    "\n"
   ]
  },
  {
   "cell_type": "code",
   "execution_count": 4,
   "metadata": {
    "collapsed": false
   },
   "outputs": [
    {
     "data": {
      "text/plain": [
       "array([ 4.12310563,  5.38516481,  6.70820393])"
      ]
     },
     "execution_count": 4,
     "metadata": {},
     "output_type": "execute_result"
    }
   ],
   "source": [
    "x = np.array([1,2,3])\n",
    "y = np.array([4,5,6])\n",
    "np.hypot(x,y)"
   ]
  },
  {
   "cell_type": "markdown",
   "metadata": {},
   "source": [
    "### 类型处理\n",
    "\n",
    "* iscomplexobj\n",
    "* iscomplex\n",
    "* isrealobj\n",
    "* isreal\n",
    "* imag\n",
    "* real\n",
    "* real_if_close\n",
    "* isscalar\n",
    "* isneginf\n",
    "* isposinf\n",
    "* isinf\n",
    "* isfinite\n",
    "* isnan\n",
    "* nan_to_num\n",
    "* common_type\n",
    "* typename\n",
    "\n",
    "正无穷："
   ]
  },
  {
   "cell_type": "code",
   "execution_count": 5,
   "metadata": {
    "collapsed": false
   },
   "outputs": [
    {
     "data": {
      "text/plain": [
       "inf"
      ]
     },
     "execution_count": 5,
     "metadata": {},
     "output_type": "execute_result"
    }
   ],
   "source": [
    "np.inf"
   ]
  },
  {
   "cell_type": "markdown",
   "metadata": {},
   "source": [
    "负无穷："
   ]
  },
  {
   "cell_type": "code",
   "execution_count": 6,
   "metadata": {
    "collapsed": false
   },
   "outputs": [
    {
     "data": {
      "text/plain": [
       "-inf"
      ]
     },
     "execution_count": 6,
     "metadata": {},
     "output_type": "execute_result"
    }
   ],
   "source": [
    "-np.inf"
   ]
  },
  {
   "cell_type": "markdown",
   "metadata": {},
   "source": [
    "非法直（Not a number）:"
   ]
  },
  {
   "cell_type": "code",
   "execution_count": 7,
   "metadata": {
    "collapsed": false
   },
   "outputs": [
    {
     "data": {
      "text/plain": [
       "nan"
      ]
     },
     "execution_count": 7,
     "metadata": {},
     "output_type": "execute_result"
    }
   ],
   "source": [
    "np.nan"
   ]
  },
  {
   "cell_type": "markdown",
   "metadata": {},
   "source": [
    "检查是否为无穷："
   ]
  },
  {
   "cell_type": "code",
   "execution_count": 8,
   "metadata": {
    "collapsed": false
   },
   "outputs": [
    {
     "data": {
      "text/plain": [
       "False"
      ]
     },
     "execution_count": 8,
     "metadata": {},
     "output_type": "execute_result"
    }
   ],
   "source": [
    "np.isinf(1.0)"
   ]
  },
  {
   "cell_type": "code",
   "execution_count": 9,
   "metadata": {
    "collapsed": false
   },
   "outputs": [
    {
     "data": {
      "text/plain": [
       "True"
      ]
     },
     "execution_count": 9,
     "metadata": {},
     "output_type": "execute_result"
    }
   ],
   "source": [
    "np.isinf(np.inf)"
   ]
  },
  {
   "cell_type": "code",
   "execution_count": 10,
   "metadata": {
    "collapsed": false,
    "scrolled": true
   },
   "outputs": [
    {
     "data": {
      "text/plain": [
       "True"
      ]
     },
     "execution_count": 10,
     "metadata": {},
     "output_type": "execute_result"
    }
   ],
   "source": [
    "np.isinf(-np.inf)"
   ]
  },
  {
   "cell_type": "markdown",
   "metadata": {},
   "source": [
    "非法直："
   ]
  },
  {
   "cell_type": "code",
   "execution_count": 11,
   "metadata": {
    "collapsed": false,
    "scrolled": true
   },
   "outputs": [
    {
     "name": "stderr",
     "output_type": "stream",
     "text": [
      "/home/jjg/anaconda3/lib/python3.6/site-packages/ipykernel/__main__.py:1: RuntimeWarning: invalid value encountered in true_divide\n",
      "  if __name__ == '__main__':\n"
     ]
    },
    {
     "data": {
      "text/plain": [
       "array([ nan])"
      ]
     },
     "execution_count": 11,
     "metadata": {},
     "output_type": "execute_result"
    }
   ],
   "source": [
    "np.array([0])/0"
   ]
  },
  {
   "cell_type": "markdown",
   "metadata": {},
   "source": [
    "这并不会报错，而是返回一个非法值。\n",
    "\n",
    "只有0/0会得到nan，非0直除以0会得到无穷："
   ]
  },
  {
   "cell_type": "code",
   "execution_count": 15,
   "metadata": {
    "collapsed": false
   },
   "outputs": [
    {
     "name": "stderr",
     "output_type": "stream",
     "text": [
      "/home/jjg/anaconda3/lib/python3.6/site-packages/ipykernel/__main__.py:2: RuntimeWarning: divide by zero encountered in true_divide\n",
      "  from ipykernel import kernelapp as app\n",
      "/home/jjg/anaconda3/lib/python3.6/site-packages/ipykernel/__main__.py:2: RuntimeWarning: invalid value encountered in true_divide\n",
      "  from ipykernel import kernelapp as app\n"
     ]
    },
    {
     "data": {
      "text/plain": [
       "array([ nan,  inf,  inf,  inf,  inf])"
      ]
     },
     "execution_count": 15,
     "metadata": {},
     "output_type": "execute_result"
    }
   ],
   "source": [
    "a = np.arange(5.0)\n",
    "b = a / 0.0\n",
    "b"
   ]
  },
  {
   "cell_type": "markdown",
   "metadata": {},
   "source": [
    "nan 与任何数进行比较都是False："
   ]
  },
  {
   "cell_type": "code",
   "execution_count": 16,
   "metadata": {
    "collapsed": false
   },
   "outputs": [
    {
     "data": {
      "text/plain": [
       "array([False, False, False, False, False], dtype=bool)"
      ]
     },
     "execution_count": 16,
     "metadata": {},
     "output_type": "execute_result"
    }
   ],
   "source": [
    "b == np.nan"
   ]
  },
  {
   "cell_type": "markdown",
   "metadata": {},
   "source": [
    "想要找出nan直需要使用isnan:"
   ]
  },
  {
   "cell_type": "code",
   "execution_count": 17,
   "metadata": {
    "collapsed": false,
    "scrolled": true
   },
   "outputs": [
    {
     "data": {
      "text/plain": [
       "array([ True, False, False, False, False], dtype=bool)"
      ]
     },
     "execution_count": 17,
     "metadata": {},
     "output_type": "execute_result"
    }
   ],
   "source": [
    "np.isnan(b)"
   ]
  },
  {
   "cell_type": "markdown",
   "metadata": {},
   "source": [
    "### 修改形状\n",
    "\n",
    "* atleast_1d\n",
    "* atleast_2d\n",
    "* atleast_3d\n",
    "* expend_dims\n",
    "* apply_over_axes\n",
    "* apply_along_axis\n",
    "* hstack\n",
    "* vstack\n",
    "* dstack\n",
    "* column_stack\n",
    "* hsplit\n",
    "* vsplit\n",
    "* dsplit\n",
    "* split\n",
    "* squeeze\n"
   ]
  },
  {
   "cell_type": "markdown",
   "metadata": {},
   "source": [
    "### 其他有用函数\n",
    "\n",
    "* fix\n",
    "* mod\n",
    "* amax\n",
    "* amin\n",
    "* ptp\n",
    "* sum\n",
    "* cumsum\n",
    "* prod\n",
    "* cumprod\n",
    "* diff\n",
    "* angle\n",
    "\n",
    "* unwrap\n",
    "* sort_complex\n",
    "* trim_zeros\n",
    "* fliplr\n",
    "* flipud\n",
    "* rot90\n",
    "* diag\n",
    "* eye\n",
    "* select\n",
    "* extract\n",
    "* insert\n",
    "\n",
    "* roots\n",
    "* poly\n",
    "* any\n",
    "* all\n",
    "* disp\n",
    "* unique\n",
    "* nansum\n",
    "* nanmax\n",
    "* nanargmax\n",
    "* nanargmin\n",
    "* nanmin"
   ]
  }
 ],
 "metadata": {
  "kernelspec": {
   "display_name": "Python 3",
   "language": "python",
   "name": "python3"
  },
  "language_info": {
   "codemirror_mode": {
    "name": "ipython",
    "version": 3
   },
   "file_extension": ".py",
   "mimetype": "text/x-python",
   "name": "python",
   "nbconvert_exporter": "python",
   "pygments_lexer": "ipython3",
   "version": "3.6.0"
  }
 },
 "nbformat": 4,
 "nbformat_minor": 2
}
