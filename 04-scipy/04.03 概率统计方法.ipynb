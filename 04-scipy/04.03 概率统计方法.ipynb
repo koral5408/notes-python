{
 "cells": [
  {
   "cell_type": "markdown",
   "metadata": {},
   "source": [
    "## 概率统计方法"
   ]
  },
  {
   "cell_type": "markdown",
   "metadata": {},
   "source": [
    "### 简介\n",
    "\n",
    "**Python**中常用的统计工具有**Numpy, Pandas, PyMC, StatsModels**等。\n",
    "\n",
    "**Scipy**中的子库scipy.stats中包含很多统计上的方法。\n",
    "\n",
    "导入numpy和matplotlib："
   ]
  },
  {
   "cell_type": "code",
   "execution_count": 1,
   "metadata": {
    "collapsed": false
   },
   "outputs": [
    {
     "name": "stdout",
     "output_type": "stream",
     "text": [
      "Populating the interactive namespace from numpy and matplotlib\n"
     ]
    }
   ],
   "source": [
    "%pylab inline"
   ]
  },
  {
   "cell_type": "code",
   "execution_count": 2,
   "metadata": {
    "collapsed": true
   },
   "outputs": [],
   "source": [
    "heights = array([1.46, 1.79, 2.01, 1.75, 1.56, 1.69, 1.88, 1.76, 1.88, 1.78])"
   ]
  },
  {
   "cell_type": "markdown",
   "metadata": {},
   "source": [
    "Numpy自带简单的统计方法："
   ]
  },
  {
   "cell_type": "code",
   "execution_count": 4,
   "metadata": {
    "collapsed": false
   },
   "outputs": [
    {
     "name": "stdout",
     "output_type": "stream",
     "text": [
      "mean,  1.756\n",
      "min,  1.46\n",
      "max,  2.01\n",
      "standard deviation,  0.150811140172\n"
     ]
    }
   ],
   "source": [
    "print('mean, ',heights.mean())\n",
    "print(\"min, \",heights.min())\n",
    "print(\"max, \", heights.max())\n",
    "print(\"standard deviation, \", heights.std())"
   ]
  },
  {
   "cell_type": "markdown",
   "metadata": {},
   "source": [
    "导入**Scipy**的统计模块："
   ]
  },
  {
   "cell_type": "code",
   "execution_count": 16,
   "metadata": {
    "collapsed": true
   },
   "outputs": [],
   "source": [
    "import scipy.stats.mstats as st"
   ]
  },
  {
   "cell_type": "markdown",
   "metadata": {},
   "source": [
    "_（scipy的官方网站上并未找到stats.stats,倒是可以看到stats.mstats，但是两个都可以运行，计算结果也基本相同，只是精度略有差异，猜测是版本升级了，保持了兼容性）_"
   ]
  },
  {
   "cell_type": "markdown",
   "metadata": {},
   "source": [
    "其他统计量："
   ]
  },
  {
   "cell_type": "code",
   "execution_count": 20,
   "metadata": {
    "collapsed": false
   },
   "outputs": [
    {
     "name": "stdout",
     "output_type": "stream",
     "text": [
      "median,  1.7706890443882266\n",
      "mode,  ModeResult(mode=array([ 1.88]), count=array([ 2.]))\n",
      "skewness,  -0.3935244564726434\n",
      "kurtosis,  -0.330672097724\n",
      "and so many more ...\n"
     ]
    }
   ],
   "source": [
    "#print(\"median, \", st.nanmedian(heights))  #忽略nan直之后的中位数,mstats和stats中都没有此函数\n",
    "print(\"median, \", st.hdmedian(heights))     \n",
    "print(\"mode, \", st.mode(heights))         #众数及其出现次数\n",
    "print(\"skewness, \", st.skew(heights))     #偏度\n",
    "print(\"kurtosis, \", st.kurtosis(heights)) #峰度\n",
    "print(\"and so many more ...\")"
   ]
  },
  {
   "cell_type": "markdown",
   "metadata": {},
   "source": [
    "### 概率分布\n",
    "\n",
    "常见的[连续概率分布]()有：\n",
    "\n",
    "* 均匀分布\n",
    "* 正态分布\n",
    "* 学生t分布\n",
    "* F分布\n",
    "* Gamma分布\n",
    "* ...\n",
    "\n",
    "[离散概率分布]()：\n",
    "\n",
    "* 伯努利分布\n",
    "* 几何分布\n",
    "* ...\n",
    "\n",
    "真写都可以在scipy.stats中找到。"
   ]
  },
  {
   "cell_type": "markdown",
   "metadata": {},
   "source": [
    "### 连续分布\n",
    "\n",
    "#### 正态分布\n",
    "\n",
    "以[正态分布]()为例，先导入正态分布："
   ]
  },
  {
   "cell_type": "code",
   "execution_count": 23,
   "metadata": {
    "collapsed": true
   },
   "outputs": [],
   "source": [
    "from scipy.stats import norm"
   ]
  },
  {
   "cell_type": "markdown",
   "metadata": {},
   "source": [
    "它包含撕裂常用的函数：\n",
    "\n",
    "* norm.cdf 返回对应的[累计分布函数]()值\n",
    "* norm.pdf 返回对应的[概率密度函数]()值\n",
    "* norm.rvs 产生指定参数的随机变量\n",
    "* norm.fit 返回给定数据下，各参数的[最大似然估计]()（MLE）值\n",
    "\n",
    "从正态分布产生500个随机点："
   ]
  },
  {
   "cell_type": "code",
   "execution_count": 25,
   "metadata": {
    "collapsed": false
   },
   "outputs": [
    {
     "data": {
      "text/plain": [
       "numpy.ndarray"
      ]
     },
     "execution_count": 25,
     "metadata": {},
     "output_type": "execute_result"
    }
   ],
   "source": [
    "x_norm = norm.rvs(size=500)\n",
    "type(x_norm)"
   ]
  },
  {
   "cell_type": "markdown",
   "metadata": {},
   "source": [
    "直方图："
   ]
  },
  {
   "cell_type": "code",
   "execution_count": 26,
   "metadata": {
    "collapsed": false
   },
   "outputs": [
    {
     "name": "stdout",
     "output_type": "stream",
     "text": [
      "counts,  [   6.   18.   46.   87.  114.  106.   66.   33.   20.    4.]\n",
      "bin centers [ -2.87236110e+00  -2.29750217e+00  -1.72264324e+00  -1.14778432e+00\n",
      "  -5.72925387e-01   1.93354108e-03   5.76792469e-01   1.15165140e+00\n",
      "   1.72651033e+00   2.30136925e+00   2.87622818e+00]\n"
     ]
    },
    {
     "data": {
      "image/png": "[encoded data removed]",
      "text/plain": [
       "<matplotlib.figure.Figure at 0x7fad8071dd68>"
      ]
     },
     "metadata": {},
     "output_type": "display_data"
    }
   ],
   "source": [
    "h = hist(x_norm)\n",
    "print(\"counts, \", h[0])\n",
    "print(\"bin centers\", h[1])"
   ]
  },
  {
   "cell_type": "markdown",
   "metadata": {},
   "source": [
    "归一化直方图（用出现频率代替次数），将划分区间变为20（默认10）："
   ]
  },
  {
   "cell_type": "code",
   "execution_count": 30,
   "metadata": {
    "collapsed": false
   },
   "outputs": [
    {
     "data": {
      "image/png": "[encoded data removed]",
      "text/plain": [
       "<matplotlib.figure.Figure at 0x7fad806f88d0>"
      ]
     },
     "metadata": {},
     "output_type": "display_data"
    }
   ],
   "source": [
    "h = hist(x_norm, normed=True, bins=20)"
   ]
  },
  {
   "cell_type": "markdown",
   "metadata": {},
   "source": [
    "在这组数据下，正态分布参数的最大似然估计为："
   ]
  },
  {
   "cell_type": "code",
   "execution_count": 31,
   "metadata": {
    "collapsed": false
   },
   "outputs": [
    {
     "name": "stdout",
     "output_type": "stream",
     "text": [
      "mean,  -0.0811321693573\n",
      "x_std,  1.00425322577\n"
     ]
    }
   ],
   "source": [
    "x_mean, x_std = norm.fit(x_norm)\n",
    "\n",
    "print(\"mean, \", x_mean)\n",
    "print(\"x_std, \", x_std)"
   ]
  },
  {
   "cell_type": "markdown",
   "metadata": {},
   "source": [
    "将真实的概率密度函数与直方图进行比较："
   ]
  },
  {
   "cell_type": "code",
   "execution_count": 33,
   "metadata": {
    "collapsed": false
   },
   "outputs": [
    {
     "data": {
      "image/png": "[encoded data removed]",
      "text/plain": [
       "<matplotlib.figure.Figure at 0x7fad7d1267f0>"
      ]
     },
     "metadata": {},
     "output_type": "display_data"
    }
   ],
   "source": [
    "h = hist(x_norm, normed=True, bins=20)\n",
    "\n",
    "x = linspace(-3,3,50)\n",
    "p = plot(x, norm.pdf(x), 'r-')"
   ]
  },
  {
   "cell_type": "markdown",
   "metadata": {},
   "source": [
    "导入积分函数："
   ]
  },
  {
   "cell_type": "code",
   "execution_count": 34,
   "metadata": {
    "collapsed": true
   },
   "outputs": [],
   "source": [
    "from scipy.integrate import trapz"
   ]
  },
  {
   "cell_type": "markdown",
   "metadata": {},
   "source": [
    "通过积分，计算落在某个区间的概率大小："
   ]
  },
  {
   "cell_type": "code",
   "execution_count": 35,
   "metadata": {
    "collapsed": false
   },
   "outputs": [
    {
     "name": "stdout",
     "output_type": "stream",
     "text": [
      "95.45% of the values lie between -2 and 2\n"
     ]
    },
    {
     "data": {
      "text/plain": [
       "[<matplotlib.lines.Line2D at 0x7fad7cfbe0f0>]"
      ]
     },
     "execution_count": 35,
     "metadata": {},
     "output_type": "execute_result"
    },
    {
     "data": {
      "image/png": "[encoded data removed]",
      "text/plain": [
       "<matplotlib.figure.Figure at 0x7fad7cfb6828>"
      ]
     },
     "metadata": {},
     "output_type": "display_data"
    }
   ],
   "source": [
    "x1 = linspace(-2, 2, 108)\n",
    "p = trapz(norm.pdf(x1), x1)\n",
    "print(\"{:.2%} of the values lie between -2 and 2\".format(p))\n",
    "\n",
    "fill_between(x1, norm.pdf(x1), color=\"red\")\n",
    "plot(x, norm.pdf(x), \"k-\")"
   ]
  },
  {
   "cell_type": "markdown",
   "metadata": {},
   "source": [
    "默认情况，正态分布的参数为均值0， 标准差1， 即标准正态分布。\n",
    "\n",
    "可以通过loc和scale来调整这些参数，一种方法是调用相关函数是进行输入："
   ]
  },
  {
   "cell_type": "code",
   "execution_count": 38,
   "metadata": {
    "collapsed": false
   },
   "outputs": [
    {
     "data": {
      "image/png": "[encoded data removed]",
      "text/plain": [
       "<matplotlib.figure.Figure at 0x7fad7d376fd0>"
      ]
     },
     "metadata": {},
     "output_type": "display_data"
    }
   ],
   "source": [
    "p = plot(x, norm.pdf(x, loc=0,scale=1))\n",
    "p = plot(x, norm.pdf(x, loc=0.5, scale=2))\n",
    "p = plot(x, norm.pdf(x, loc=-0.5, scale=0.5))"
   ]
  },
  {
   "cell_type": "markdown",
   "metadata": {},
   "source": [
    "另一种则是将loc， scale作为参数直接输出给norm生成相应的分布："
   ]
  },
  {
   "cell_type": "code",
   "execution_count": 41,
   "metadata": {
    "collapsed": false
   },
   "outputs": [
    {
     "data": {
      "image/png": "[encoded data removed]",
      "text/plain": [
       "<matplotlib.figure.Figure at 0x7fad7cd12780>"
      ]
     },
     "metadata": {},
     "output_type": "display_data"
    }
   ],
   "source": [
    "p = plot(x, norm(loc=0, scale=1).pdf(x))\n",
    "p = plot(x, norm(loc=0.5, scale=2).pdf(x))\n",
    "p = plot(x, norm(loc=-0.5, scale=.5).pdf(x))"
   ]
  }
 ],
 "metadata": {
  "kernelspec": {
   "display_name": "Python 3",
   "language": "python",
   "name": "python3"
  },
  "language_info": {
   "codemirror_mode": {
    "name": "ipython",
    "version": 3
   },
   "file_extension": ".py",
   "mimetype": "text/x-python",
   "name": "python",
   "nbconvert_exporter": "python",
   "pygments_lexer": "ipython3",
   "version": "3.6.0"
  }
 },
 "nbformat": 4,
 "nbformat_minor": 2
}
